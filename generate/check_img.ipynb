{
 "cells": [
  {
   "cell_type": "code",
   "execution_count": 1,
   "id": "2d7e8549-346e-4f88-ad2f-eaf7cc1e8c90",
   "metadata": {},
   "outputs": [],
   "source": [
    "import ipywidgets.widgets as widgets\n",
    "from IPython.display import display\n",
    "import cv2\n",
    "\n",
    "import os\n",
    "import glob\n",
    "import shutil"
   ]
  },
  {
   "cell_type": "code",
   "execution_count": 2,
   "id": "e0687f58-e699-4182-9fb1-dbda3c173550",
   "metadata": {},
   "outputs": [
    {
     "name": "stdout",
     "output_type": "stream",
     "text": [
      "Directories not created because they already exist\n"
     ]
    }
   ],
   "source": [
    "import os\n",
    "\n",
    "dir_path1 = 'image/dataset/separate/true'\n",
    "dir_path2 = 'image/dataset/separate/false'\n",
    "# we have this \"try/except\" statement because these next functions can throw an error if the directories exist already\n",
    "try:\n",
    "    os.makedirs(dir_path1)\n",
    "    os.makedirs(dir_path2)\n",
    "    \n",
    "except FileExistsError:\n",
    "    print('Directories not created because they already exist')"
   ]
  },
  {
   "cell_type": "code",
   "execution_count": null,
   "id": "fc627d8a-b3f0-424e-92c0-04f5fbf3249c",
   "metadata": {},
   "outputs": [
    {
     "name": "stderr",
     "output_type": "stream",
     "text": [
      "[ WARN:0@7.631] global /Users/ec2-user/ci_py311/opencv-suite_1678377996177/work/modules/imgcodecs/src/loadsave.cpp (239) findDecoder imread_('image/dataset/collect/empty.png'): can't open/read file: check file path/integrity\n"
     ]
    },
    {
     "ename": "error",
     "evalue": "OpenCV(4.6.0) /Users/ec2-user/ci_py311/opencv-suite_1678377996177/work/modules/imgcodecs/src/loadsave.cpp:976: error: (-215:Assertion failed) !image.empty() in function 'imencode'\n",
     "output_type": "error",
     "traceback": [
      "\u001b[0;31m---------------------------------------------------------------------------\u001b[0m",
      "\u001b[0;31merror\u001b[0m                                     Traceback (most recent call last)",
      "Cell \u001b[0;32mIn[5], line 55\u001b[0m, in \u001b[0;36m<lambda>\u001b[0;34m(x)\u001b[0m\n\u001b[1;32m     53\u001b[0m display_img()\n\u001b[1;32m     54\u001b[0m true_button\u001b[38;5;241m.\u001b[39mon_click(\u001b[38;5;28;01mlambda\u001b[39;00m x: save_true())\n\u001b[0;32m---> 55\u001b[0m false_button\u001b[38;5;241m.\u001b[39mon_click(\u001b[38;5;28;01mlambda\u001b[39;00m x: save_false())\n\u001b[1;32m     56\u001b[0m load_button\u001b[38;5;241m.\u001b[39mon_click(\u001b[38;5;28;01mlambda\u001b[39;00m x: load())\n",
      "Cell \u001b[0;32mIn[5], line 44\u001b[0m, in \u001b[0;36msave_false\u001b[0;34m()\u001b[0m\n\u001b[1;32m     42\u001b[0m \u001b[38;5;28;01mif\u001b[39;00m data_count\u001b[38;5;241m.\u001b[39mvalue \u001b[38;5;241m<\u001b[39m n:\n\u001b[1;32m     43\u001b[0m     n \u001b[38;5;241m=\u001b[39m data_count\u001b[38;5;241m.\u001b[39mvalue\n\u001b[0;32m---> 44\u001b[0m display_img()\n",
      "Cell \u001b[0;32mIn[5], line 24\u001b[0m, in \u001b[0;36mdisplay_img\u001b[0;34m()\u001b[0m\n\u001b[1;32m     21\u001b[0m img_file_name \u001b[38;5;241m=\u001b[39m img_files[n]\n\u001b[1;32m     22\u001b[0m img \u001b[38;5;241m=\u001b[39m cv2\u001b[38;5;241m.\u001b[39mimread(data_dir\u001b[38;5;241m+\u001b[39mimg_file_name)\n\u001b[0;32m---> 24\u001b[0m _, encoded_image \u001b[38;5;241m=\u001b[39m cv2\u001b[38;5;241m.\u001b[39mimencode(\u001b[38;5;124m'\u001b[39m\u001b[38;5;124m.png\u001b[39m\u001b[38;5;124m'\u001b[39m, img)\n\u001b[1;32m     25\u001b[0m image\u001b[38;5;241m.\u001b[39mvalue \u001b[38;5;241m=\u001b[39m encoded_image\u001b[38;5;241m.\u001b[39mtobytes()\n",
      "\u001b[0;31merror\u001b[0m: OpenCV(4.6.0) /Users/ec2-user/ci_py311/opencv-suite_1678377996177/work/modules/imgcodecs/src/loadsave.cpp:976: error: (-215:Assertion failed) !image.empty() in function 'imencode'\n"
     ]
    },
    {
     "ename": "FileNotFoundError",
     "evalue": "[Errno 2] No such file or directory: 'image/dataset/collect/empty.png'",
     "output_type": "error",
     "traceback": [
      "\u001b[0;31m---------------------------------------------------------------------------\u001b[0m",
      "\u001b[0;31mFileNotFoundError\u001b[0m                         Traceback (most recent call last)",
      "Cell \u001b[0;32mIn[5], line 54\u001b[0m, in \u001b[0;36m<lambda>\u001b[0;34m(x)\u001b[0m\n\u001b[1;32m     51\u001b[0m     display_img()\n\u001b[1;32m     53\u001b[0m display_img()\n\u001b[0;32m---> 54\u001b[0m true_button\u001b[38;5;241m.\u001b[39mon_click(\u001b[38;5;28;01mlambda\u001b[39;00m x: save_true())\n\u001b[1;32m     55\u001b[0m false_button\u001b[38;5;241m.\u001b[39mon_click(\u001b[38;5;28;01mlambda\u001b[39;00m x: save_false())\n\u001b[1;32m     56\u001b[0m load_button\u001b[38;5;241m.\u001b[39mon_click(\u001b[38;5;28;01mlambda\u001b[39;00m x: load())\n",
      "Cell \u001b[0;32mIn[5], line 30\u001b[0m, in \u001b[0;36msave_true\u001b[0;34m()\u001b[0m\n\u001b[1;32m     28\u001b[0m \u001b[38;5;28;01mdef\u001b[39;00m \u001b[38;5;21msave_true\u001b[39m():\n\u001b[1;32m     29\u001b[0m     \u001b[38;5;28;01mglobal\u001b[39;00m true_dir, true_count , n, img_file_name\n\u001b[0;32m---> 30\u001b[0m     save_img(true_dir,img_file_name)\n\u001b[1;32m     31\u001b[0m     true_count\u001b[38;5;241m.\u001b[39mvalue \u001b[38;5;241m=\u001b[39m \u001b[38;5;28mlen\u001b[39m(os\u001b[38;5;241m.\u001b[39mlistdir(true_dir))\n\u001b[1;32m     32\u001b[0m     n \u001b[38;5;241m+\u001b[39m\u001b[38;5;241m=\u001b[39m \u001b[38;5;241m1\u001b[39m\n",
      "Cell \u001b[0;32mIn[5], line 10\u001b[0m, in \u001b[0;36msave_img\u001b[0;34m(output_path, filename)\u001b[0m\n\u001b[1;32m      7\u001b[0m output_path \u001b[38;5;241m=\u001b[39m output_path\u001b[38;5;241m+\u001b[39mfilename\n\u001b[1;32m      9\u001b[0m \u001b[38;5;66;03m# ファイルをコピーする\u001b[39;00m\n\u001b[0;32m---> 10\u001b[0m shutil\u001b[38;5;241m.\u001b[39mcopy(input_path, output_path)\n",
      "File \u001b[0;32m~/opt/anaconda3/envs/image/lib/python3.11/shutil.py:419\u001b[0m, in \u001b[0;36mcopy\u001b[0;34m(src, dst, follow_symlinks)\u001b[0m\n\u001b[1;32m    417\u001b[0m \u001b[38;5;28;01mif\u001b[39;00m os\u001b[38;5;241m.\u001b[39mpath\u001b[38;5;241m.\u001b[39misdir(dst):\n\u001b[1;32m    418\u001b[0m     dst \u001b[38;5;241m=\u001b[39m os\u001b[38;5;241m.\u001b[39mpath\u001b[38;5;241m.\u001b[39mjoin(dst, os\u001b[38;5;241m.\u001b[39mpath\u001b[38;5;241m.\u001b[39mbasename(src))\n\u001b[0;32m--> 419\u001b[0m copyfile(src, dst, follow_symlinks\u001b[38;5;241m=\u001b[39mfollow_symlinks)\n\u001b[1;32m    420\u001b[0m copymode(src, dst, follow_symlinks\u001b[38;5;241m=\u001b[39mfollow_symlinks)\n\u001b[1;32m    421\u001b[0m \u001b[38;5;28;01mreturn\u001b[39;00m dst\n",
      "File \u001b[0;32m~/opt/anaconda3/envs/image/lib/python3.11/shutil.py:256\u001b[0m, in \u001b[0;36mcopyfile\u001b[0;34m(src, dst, follow_symlinks)\u001b[0m\n\u001b[1;32m    254\u001b[0m     os\u001b[38;5;241m.\u001b[39msymlink(os\u001b[38;5;241m.\u001b[39mreadlink(src), dst)\n\u001b[1;32m    255\u001b[0m \u001b[38;5;28;01melse\u001b[39;00m:\n\u001b[0;32m--> 256\u001b[0m     \u001b[38;5;28;01mwith\u001b[39;00m \u001b[38;5;28mopen\u001b[39m(src, \u001b[38;5;124m'\u001b[39m\u001b[38;5;124mrb\u001b[39m\u001b[38;5;124m'\u001b[39m) \u001b[38;5;28;01mas\u001b[39;00m fsrc:\n\u001b[1;32m    257\u001b[0m         \u001b[38;5;28;01mtry\u001b[39;00m:\n\u001b[1;32m    258\u001b[0m             \u001b[38;5;28;01mwith\u001b[39;00m \u001b[38;5;28mopen\u001b[39m(dst, \u001b[38;5;124m'\u001b[39m\u001b[38;5;124mwb\u001b[39m\u001b[38;5;124m'\u001b[39m) \u001b[38;5;28;01mas\u001b[39;00m fdst:\n\u001b[1;32m    259\u001b[0m                 \u001b[38;5;66;03m# macOS\u001b[39;00m\n",
      "\u001b[0;31mFileNotFoundError\u001b[0m: [Errno 2] No such file or directory: 'image/dataset/collect/empty.png'"
     ]
    },
    {
     "ename": "FileNotFoundError",
     "evalue": "[Errno 2] No such file or directory: 'image/dataset/collect/empty.png'",
     "output_type": "error",
     "traceback": [
      "\u001b[0;31m---------------------------------------------------------------------------\u001b[0m",
      "\u001b[0;31mFileNotFoundError\u001b[0m                         Traceback (most recent call last)",
      "Cell \u001b[0;32mIn[5], line 55\u001b[0m, in \u001b[0;36m<lambda>\u001b[0;34m(x)\u001b[0m\n\u001b[1;32m     53\u001b[0m display_img()\n\u001b[1;32m     54\u001b[0m true_button\u001b[38;5;241m.\u001b[39mon_click(\u001b[38;5;28;01mlambda\u001b[39;00m x: save_true())\n\u001b[0;32m---> 55\u001b[0m false_button\u001b[38;5;241m.\u001b[39mon_click(\u001b[38;5;28;01mlambda\u001b[39;00m x: save_false())\n\u001b[1;32m     56\u001b[0m load_button\u001b[38;5;241m.\u001b[39mon_click(\u001b[38;5;28;01mlambda\u001b[39;00m x: load())\n",
      "Cell \u001b[0;32mIn[5], line 39\u001b[0m, in \u001b[0;36msave_false\u001b[0;34m()\u001b[0m\n\u001b[1;32m     37\u001b[0m \u001b[38;5;28;01mdef\u001b[39;00m \u001b[38;5;21msave_false\u001b[39m():\n\u001b[1;32m     38\u001b[0m     \u001b[38;5;28;01mglobal\u001b[39;00m false_dir, false_count ,n, img_file_name\n\u001b[0;32m---> 39\u001b[0m     save_img(false_dir,img_file_name)\n\u001b[1;32m     40\u001b[0m     false_count\u001b[38;5;241m.\u001b[39mvalue \u001b[38;5;241m=\u001b[39m \u001b[38;5;28mlen\u001b[39m(os\u001b[38;5;241m.\u001b[39mlistdir(false_dir))\n\u001b[1;32m     41\u001b[0m     n \u001b[38;5;241m+\u001b[39m\u001b[38;5;241m=\u001b[39m \u001b[38;5;241m1\u001b[39m\n",
      "Cell \u001b[0;32mIn[5], line 10\u001b[0m, in \u001b[0;36msave_img\u001b[0;34m(output_path, filename)\u001b[0m\n\u001b[1;32m      7\u001b[0m output_path \u001b[38;5;241m=\u001b[39m output_path\u001b[38;5;241m+\u001b[39mfilename\n\u001b[1;32m      9\u001b[0m \u001b[38;5;66;03m# ファイルをコピーする\u001b[39;00m\n\u001b[0;32m---> 10\u001b[0m shutil\u001b[38;5;241m.\u001b[39mcopy(input_path, output_path)\n",
      "File \u001b[0;32m~/opt/anaconda3/envs/image/lib/python3.11/shutil.py:419\u001b[0m, in \u001b[0;36mcopy\u001b[0;34m(src, dst, follow_symlinks)\u001b[0m\n\u001b[1;32m    417\u001b[0m \u001b[38;5;28;01mif\u001b[39;00m os\u001b[38;5;241m.\u001b[39mpath\u001b[38;5;241m.\u001b[39misdir(dst):\n\u001b[1;32m    418\u001b[0m     dst \u001b[38;5;241m=\u001b[39m os\u001b[38;5;241m.\u001b[39mpath\u001b[38;5;241m.\u001b[39mjoin(dst, os\u001b[38;5;241m.\u001b[39mpath\u001b[38;5;241m.\u001b[39mbasename(src))\n\u001b[0;32m--> 419\u001b[0m copyfile(src, dst, follow_symlinks\u001b[38;5;241m=\u001b[39mfollow_symlinks)\n\u001b[1;32m    420\u001b[0m copymode(src, dst, follow_symlinks\u001b[38;5;241m=\u001b[39mfollow_symlinks)\n\u001b[1;32m    421\u001b[0m \u001b[38;5;28;01mreturn\u001b[39;00m dst\n",
      "File \u001b[0;32m~/opt/anaconda3/envs/image/lib/python3.11/shutil.py:256\u001b[0m, in \u001b[0;36mcopyfile\u001b[0;34m(src, dst, follow_symlinks)\u001b[0m\n\u001b[1;32m    254\u001b[0m     os\u001b[38;5;241m.\u001b[39msymlink(os\u001b[38;5;241m.\u001b[39mreadlink(src), dst)\n\u001b[1;32m    255\u001b[0m \u001b[38;5;28;01melse\u001b[39;00m:\n\u001b[0;32m--> 256\u001b[0m     \u001b[38;5;28;01mwith\u001b[39;00m \u001b[38;5;28mopen\u001b[39m(src, \u001b[38;5;124m'\u001b[39m\u001b[38;5;124mrb\u001b[39m\u001b[38;5;124m'\u001b[39m) \u001b[38;5;28;01mas\u001b[39;00m fsrc:\n\u001b[1;32m    257\u001b[0m         \u001b[38;5;28;01mtry\u001b[39;00m:\n\u001b[1;32m    258\u001b[0m             \u001b[38;5;28;01mwith\u001b[39;00m \u001b[38;5;28mopen\u001b[39m(dst, \u001b[38;5;124m'\u001b[39m\u001b[38;5;124mwb\u001b[39m\u001b[38;5;124m'\u001b[39m) \u001b[38;5;28;01mas\u001b[39;00m fdst:\n\u001b[1;32m    259\u001b[0m                 \u001b[38;5;66;03m# macOS\u001b[39;00m\n",
      "\u001b[0;31mFileNotFoundError\u001b[0m: [Errno 2] No such file or directory: 'image/dataset/collect/empty.png'"
     ]
    }
   ],
   "source": [
    "image = widgets.Image(format='jpg', width=224, height=224)  # this width and height doesn't necessarily have to match the camera\n",
    "\n",
    "data_dir = 'image/dataset/collect/'\n",
    "true_dir = 'image/dataset/separate/true/'\n",
    "false_dir = 'image/dataset/separate/false/'\n",
    "\n",
    "button_layout = widgets.Layout(width='128px', height='64px')\n",
    "true_button = widgets.Button(description='add true', button_style='success', layout=button_layout)\n",
    "false_button = widgets.Button(description='add false', button_style='danger', layout=button_layout)\n",
    "true_count = widgets.IntText(layout=button_layout, value=len(os.listdir(true_dir)))\n",
    "false_count = widgets.IntText(layout=button_layout, value=len(os.listdir(false_dir)))\n",
    "\n",
    "data_count = widgets.IntText(layout=button_layout, value=len(os.listdir(data_dir)))\n",
    "load_button = widgets.Button(description='load', button_style='success', layout=button_layout)"
   ]
  },
  {
   "cell_type": "code",
   "execution_count": 4,
   "id": "404b98fb-bc4b-4881-bb54-25abc2a4f8a2",
   "metadata": {},
   "outputs": [],
   "source": [
    "\n",
    "data_ui = widgets.VBox([data_count,load_button])\n",
    "free = widgets.HBox([true_count, true_button])\n",
    "block = widgets.HBox([false_count, false_button])\n",
    "button = widgets.VBox([free,block])\n",
    "ui = widgets.HBox([data_ui,image,button])\n",
    "# display(ui)"
   ]
  },
  {
   "cell_type": "code",
   "execution_count": null,
   "id": "063d4816",
   "metadata": {},
   "outputs": [],
   "source": []
  },
  {
   "cell_type": "code",
   "execution_count": 5,
   "id": "3ede721d-e42f-4bbe-b167-b46218f6cbf9",
   "metadata": {},
   "outputs": [],
   "source": [
    "n = 0\n",
    "img_file_name = \"\"\n",
    "\n",
    "def save_img(output_path,filename):\n",
    "    global data_dir\n",
    "    input_path = data_dir+filename\n",
    "    output_path = output_path+filename\n",
    "\n",
    "    # ファイルをコピーする\n",
    "    shutil.copy(input_path, output_path)\n",
    "    \n",
    "def display_img():\n",
    "    global data_dir, n, img_file_name\n",
    "    data_path = data_dir\n",
    "    entries = os.listdir(data_path)\n",
    "\n",
    "    # Filter to include only .jpg files\n",
    "    img_files = [file for file in entries if file.endswith('.jpg')]\n",
    "    img_files.append('empty.png')\n",
    "    #img_filesのn番目を表示したい。\n",
    "    img_file_name = img_files[n]\n",
    "    img = cv2.imread(data_dir+img_file_name)\n",
    "    \n",
    "    _, encoded_image = cv2.imencode('.jpg', img)\n",
    "    image.value = encoded_image.tobytes()\n",
    "    \n",
    "\n",
    "def save_true():\n",
    "    global true_dir, true_count , n, img_file_name\n",
    "    save_img(true_dir,img_file_name)\n",
    "    true_count.value = len(os.listdir(true_dir))\n",
    "    n += 1\n",
    "    if data_count.value < n:\n",
    "        n = data_count.value\n",
    "    display_img()\n",
    "    \n",
    "def save_false():\n",
    "    global false_dir, false_count ,n, img_file_name\n",
    "    save_img(false_dir,img_file_name)\n",
    "    false_count.value = len(os.listdir(false_dir))\n",
    "    n += 1\n",
    "    if data_count.value < n:\n",
    "        n = data_count.value\n",
    "    display_img()\n",
    "    \n",
    "def load():\n",
    "    global true_dir, false_dir\n",
    "    true_count.value = len(glob.glob(os.path.join(true_dir, '*.jpg')))\n",
    "    false_count.value = len(glob.glob(os.path.join(false_dir, '*.jpg')))\n",
    "    data_count.value = len(glob.glob(os.path.join(data_dir, '*.jpg')))\n",
    "    display_img()\n",
    "    \n",
    "display_img()\n",
    "true_button.on_click(lambda x: save_true())\n",
    "false_button.on_click(lambda x: save_false())\n",
    "load_button.on_click(lambda x: load())"
   ]
  },
  {
   "cell_type": "code",
   "execution_count": null,
   "id": "ffe389e7",
   "metadata": {},
   "outputs": [],
   "source": []
  },
  {
   "cell_type": "code",
   "execution_count": 6,
   "id": "1ab75967-6a75-4e85-a720-20ca6d701ca1",
   "metadata": {},
   "outputs": [
    {
     "data": {
      "application/vnd.jupyter.widget-view+json": {
       "model_id": "c107a44f8590401bb3f5ec4ca8f7229e",
       "version_major": 2,
       "version_minor": 0
      },
      "text/plain": [
       "HBox(children=(VBox(children=(IntText(value=8, layout=Layout(height='64px', width='128px')), Button(button_sty…"
      ]
     },
     "metadata": {},
     "output_type": "display_data"
    }
   ],
   "source": [
    "display(ui)"
   ]
  },
  {
   "cell_type": "code",
   "execution_count": null,
   "id": "9fc620ff-cad7-4be9-a01b-f53b70131b14",
   "metadata": {},
   "outputs": [],
   "source": []
  },
  {
   "cell_type": "code",
   "execution_count": null,
   "id": "d3fff0e0-dad7-479e-b037-8fe002edffa6",
   "metadata": {},
   "outputs": [],
   "source": []
  }
 ],
 "metadata": {
  "kernelspec": {
   "display_name": "Python 3 (ipykernel)",
   "language": "python",
   "name": "python3"
  },
  "language_info": {
   "codemirror_mode": {
    "name": "ipython",
    "version": 3
   },
   "file_extension": ".py",
   "mimetype": "text/x-python",
   "name": "python",
   "nbconvert_exporter": "python",
   "pygments_lexer": "ipython3",
   "version": "3.11.2"
  }
 },
 "nbformat": 4,
 "nbformat_minor": 5
}
