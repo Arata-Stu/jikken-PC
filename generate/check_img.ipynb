{
 "cells": [
  {
   "cell_type": "code",
   "execution_count": 10,
   "id": "2d7e8549-346e-4f88-ad2f-eaf7cc1e8c90",
   "metadata": {},
   "outputs": [],
   "source": [
    "import ipywidgets.widgets as widgets\n",
    "from IPython.display import display\n",
    "\n",
    "import os\n",
    "import glob\n",
    "import shutil"
   ]
  },
  {
   "cell_type": "code",
   "execution_count": 2,
   "id": "e0687f58-e699-4182-9fb1-dbda3c173550",
   "metadata": {},
   "outputs": [
    {
     "name": "stdout",
     "output_type": "stream",
     "text": [
      "Directories not created because they already exist\n"
     ]
    }
   ],
   "source": [
    "import os\n",
    "\n",
    "dir_path1 = 'image/dataset/separate/true'\n",
    "dir_path2 = 'image/dataset/separate/false'\n",
    "# we have this \"try/except\" statement because these next functions can throw an error if the directories exist already\n",
    "try:\n",
    "    os.makedirs(dir_path1)\n",
    "    os.makedirs(dir_path2)\n",
    "    \n",
    "except FileExistsError:\n",
    "    print('Directories not created because they already exist')"
   ]
  },
  {
   "cell_type": "code",
   "execution_count": 3,
   "id": "fc627d8a-b3f0-424e-92c0-04f5fbf3249c",
   "metadata": {},
   "outputs": [],
   "source": [
    "image = widgets.Image(format='jpeg', width=224, height=224)  # this width and height doesn't necessarily have to match the camera\n",
    "\n",
    "data_dir = 'image/dataset/collect/'\n",
    "true_dir = 'image/dataset/separate/true/'\n",
    "false_dir = 'image/dataset/separate/false/'\n",
    "\n",
    "button_layout = widgets.Layout(width='128px', height='64px')\n",
    "true_button = widgets.Button(description='add true', button_style='success', layout=button_layout)\n",
    "false_button = widgets.Button(description='add false', button_style='danger', layout=button_layout)\n",
    "true_count = widgets.IntText(layout=button_layout, value=len(os.listdir(true_dir)))\n",
    "false_count = widgets.IntText(layout=button_layout, value=len(os.listdir(false_dir)))\n",
    "\n",
    "data_count = widgets.IntText(layout=button_layout, value=len(os.listdir(data_dir)))\n",
    "load_button = widgets.Button(description='load', button_style='success', layout=button_layout)"
   ]
  },
  {
   "cell_type": "code",
   "execution_count": 4,
   "id": "404b98fb-bc4b-4881-bb54-25abc2a4f8a2",
   "metadata": {},
   "outputs": [],
   "source": [
    "\n",
    "data_ui = widgets.VBox([data_count,load_button])\n",
    "free = widgets.HBox([true_count, true_button])\n",
    "block = widgets.HBox([false_count, false_button])\n",
    "button = widgets.VBox([free,block])\n",
    "ui = widgets.HBox([data_ui,image,button])\n",
    "#display(ui)"
   ]
  },
  {
   "cell_type": "code",
   "execution_count": 13,
   "id": "3ede721d-e42f-4bbe-b167-b46218f6cbf9",
   "metadata": {},
   "outputs": [],
   "source": [
    "n = 0\n",
    "img_file_name = '88_sponge_v3.png'\n",
    "\n",
    "def save_img(output_path,filename):\n",
    "    global data_dir\n",
    "    input_path = data_dir+filename\n",
    "    output_path = output_path+filename\n",
    "\n",
    "    # ファイルをコピーする\n",
    "    shutil.copy(input_path, output_path)\n",
    "    \n",
    "def display_img():\n",
    "    global data_dir, n\n",
    "    data_path = data_dir\n",
    "    entries = os.listdir(data_path)\n",
    "\n",
    "    # Filter to include only .jpg files\n",
    "    img_files = [file for file in entries if file.endswith('.jpg')]\n",
    "    #img_filesのn番目を表示したい。\n",
    "    \n",
    "\n",
    "def save_true():\n",
    "    global true_dir, true_count , n\n",
    "    save_img(true_dir,img_file_name)\n",
    "    true_count.value = len(os.listdir(true_dir))\n",
    "    \n",
    "def save_false():\n",
    "    global false_dir, false_count ,n\n",
    "    save_img(false_dir,img_file_name)\n",
    "    false_count.value = len(os.listdir(false_dir))\n",
    "    \n",
    "def load():\n",
    "    global true_dir, false_dir\n",
    "    true_count.value = len(glob.glob(os.path.join(true_dir, '*.jpg')))\n",
    "    false_count.value = len(glob.glob(os.path.join(false_dir, '*.jpg')))\n",
    "    data_count.value = len(glob.glob(os.path.join(data_dir, '*.jpg')))\n",
    "    \n",
    "true_button.on_click(lambda x: save_true())\n",
    "false_button.on_click(lambda x: save_false())\n",
    "load_button.on_click(lambda x: load())"
   ]
  },
  {
   "cell_type": "code",
   "execution_count": 12,
   "id": "1ab75967-6a75-4e85-a720-20ca6d701ca1",
   "metadata": {},
   "outputs": [
    {
     "data": {
      "application/vnd.jupyter.widget-view+json": {
       "model_id": "4fcb355bef57439ba6c64281de76d3d2",
       "version_major": 2,
       "version_minor": 0
      },
      "text/plain": [
       "HBox(children=(VBox(children=(IntText(value=2, layout=Layout(height='64px', width='128px')), Button(button_sty…"
      ]
     },
     "metadata": {},
     "output_type": "display_data"
    }
   ],
   "source": [
    "display(ui)"
   ]
  },
  {
   "cell_type": "code",
   "execution_count": null,
   "id": "9fc620ff-cad7-4be9-a01b-f53b70131b14",
   "metadata": {},
   "outputs": [],
   "source": []
  },
  {
   "cell_type": "code",
   "execution_count": null,
   "id": "d3fff0e0-dad7-479e-b037-8fe002edffa6",
   "metadata": {},
   "outputs": [],
   "source": []
  }
 ],
 "metadata": {
  "kernelspec": {
   "display_name": "Python 3 (ipykernel)",
   "language": "python",
   "name": "python3"
  },
  "language_info": {
   "codemirror_mode": {
    "name": "ipython",
    "version": 3
   },
   "file_extension": ".py",
   "mimetype": "text/x-python",
   "name": "python",
   "nbconvert_exporter": "python",
   "pygments_lexer": "ipython3",
   "version": "3.11.2"
  }
 },
 "nbformat": 4,
 "nbformat_minor": 5
}
