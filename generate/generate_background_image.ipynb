{
 "cells": [
  {
   "cell_type": "markdown",
   "id": "24b82995-da2a-403b-b1cb-8a7defc254fc",
   "metadata": {},
   "source": [
    "# 背景画像を作成する"
   ]
  },
  {
   "cell_type": "code",
   "execution_count": 1,
   "id": "b08306bb-8059-4ddb-b96f-940ecc14bf29",
   "metadata": {},
   "outputs": [],
   "source": [
    "from PIL import Image\n",
    "import numpy as np\n",
    "\n",
    "def create_background_image_with_noise(width, height, color, noise_intensity=0.5):\n",
    "    \"\"\"指定されたサイズ、色で背景画像を作成し、ノイズを追加する\"\"\"\n",
    "    # 背景画像の作成\n",
    "    image = Image.new(\"RGB\", (width, height), color)\n",
    "\n",
    "    # ノイズの生成と追加\n",
    "    # ノイズを生成（0から255のランダムな値）\n",
    "    noise = np.random.randint(0, 256, (height, width, 3), dtype=np.uint8)\n",
    "    # ノイズの強度を調整\n",
    "    noise = (noise * noise_intensity).astype(np.uint8)\n",
    "    # PIL Imageに変換\n",
    "    noise_image = Image.fromarray(noise)\n",
    "    # 元の画像とノイズ画像を合成\n",
    "    result_image = Image.blend(image, noise_image, alpha=noise_intensity)\n",
    "\n",
    "    return result_image\n"
   ]
  },
  {
   "cell_type": "markdown",
   "id": "13142c15-f561-45d7-b7e2-187d7eb8b21a",
   "metadata": {},
   "source": [
    "## 使用例"
   ]
  },
  {
   "cell_type": "code",
   "execution_count": 2,
   "id": "7691ed32-cab5-4238-8784-9a96a8a475db",
   "metadata": {},
   "outputs": [],
   "source": [
    " # 背景画像のパラメータ\n",
    "width, height = 224,224\n",
    "color = \"blue\"  # 任意の色を指定（例：\"blue\", \"red\", \"green\"など）\n",
    "noise_intensity = 0.0  # ノイズの強度（0から1の範囲で指定）\n",
    "\n",
    "# ノイズ付き背景画像の作成\n",
    "background_image_with_noise = create_background_image_with_noise(width, height, color, noise_intensity)\n",
    "\n",
    "# 画像を表示\n",
    "background_image_with_noise.show()\n",
    "\n",
    "# 画像を保存する場合\n",
    "background_image_with_noise.save(\"image/background/background_image_1.png\")\n"
   ]
  },
  {
   "cell_type": "markdown",
   "id": "ec39c945-ca96-4f7c-b352-107963507f3b",
   "metadata": {},
   "source": [
    "## フォルダを作成する"
   ]
  },
  {
   "cell_type": "code",
   "execution_count": 3,
   "id": "514499eb-f2f2-4027-99aa-01de0011f251",
   "metadata": {},
   "outputs": [],
   "source": [
    "import os\n",
    "os.makedirs(\"image/background\", exist_ok=True)"
   ]
  },
  {
   "cell_type": "code",
   "execution_count": null,
   "id": "4b6d1fde-f8dc-4bb1-8777-d22e003091df",
   "metadata": {},
   "outputs": [],
   "source": []
  },
  {
   "cell_type": "markdown",
   "id": "57d2c3b1-d1ff-479f-9ff7-95a29298b0e1",
   "metadata": {},
   "source": [
    "### １０種類の色に背景画像を生成する  \n",
    "colors : 色を指定"
   ]
  },
  {
   "cell_type": "code",
   "execution_count": 2,
   "id": "3c40aabc-e5cc-4344-a15b-dbf462444fc4",
   "metadata": {},
   "outputs": [],
   "source": [
    "# 10種類の色とノイズ強度で背景画像を作成するコード\n",
    "\n",
    "colors = [\"black\"]\n",
    "noise_intensities = [0.1, 0.2, 0.3, 0.4, 0.5, 0.6, 0.7, 0.8, 0.9, 1.0]\n",
    "\n",
    "background_images = []\n",
    "\n",
    "for color, noise_intensity in zip(colors, noise_intensities):\n",
    "    # 各色とノイズ強度で背景画像を作成\n",
    "    image = create_background_image_with_noise(224, 224, color, noise_intensity)\n",
    "    background_images.append(image)\n",
    "\n",
    "# # 作成した画像を表示（保存も可能）\n",
    "# for image in background_images:\n",
    "#     image.show()\n",
    "\n",
    "# 必要に応じて画像を保存\n",
    "for i, image in enumerate(background_images):\n",
    "    image.save(f\"image/background/background_image_{i}.png\")\n"
   ]
  },
  {
   "cell_type": "code",
   "execution_count": null,
   "id": "98ac3aea-d7f1-4611-bfd2-bb2e8bb6a5af",
   "metadata": {},
   "outputs": [],
   "source": []
  },
  {
   "cell_type": "code",
   "execution_count": null,
   "id": "ad489cab-199d-49e9-ae08-f396c80b2276",
   "metadata": {},
   "outputs": [],
   "source": []
  },
  {
   "cell_type": "code",
   "execution_count": null,
   "id": "22803b55-d161-4d2d-b59f-5531a848084a",
   "metadata": {},
   "outputs": [],
   "source": []
  }
 ],
 "metadata": {
  "kernelspec": {
   "display_name": "Python 3 (ipykernel)",
   "language": "python",
   "name": "python3"
  },
  "language_info": {
   "codemirror_mode": {
    "name": "ipython",
    "version": 3
   },
   "file_extension": ".py",
   "mimetype": "text/x-python",
   "name": "python",
   "nbconvert_exporter": "python",
   "pygments_lexer": "ipython3",
   "version": "3.11.2"
  }
 },
 "nbformat": 4,
 "nbformat_minor": 5
}
