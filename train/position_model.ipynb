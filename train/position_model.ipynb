{
 "cells": [
  {
   "cell_type": "code",
   "execution_count": 1,
   "id": "b238296a-5092-48ae-b59d-4f28c33f63c0",
   "metadata": {},
   "outputs": [],
   "source": [
    "import torch\n",
    "import torch.nn as nn\n",
    "import torch.optim as optim\n",
    "from torch.utils.data import Dataset, DataLoader, random_split\n",
    "from torchvision import transforms\n",
    "from tqdm import tqdm\n",
    "from torchvision.models import ResNet18_Weights\n",
    "\n",
    "\n",
    "import numpy as np\n",
    "from PIL import Image\n",
    "import matplotlib.pyplot as plt\n",
    "from learn import CustomCircleDataset,SimpleCNN,SimpleCNN_1,CustomResNet\n"
   ]
  },
  {
   "cell_type": "code",
   "execution_count": 2,
   "id": "9adadae8-f0f6-4c5e-93c6-1546e9539da9",
   "metadata": {},
   "outputs": [],
   "source": [
    "transform = transforms.Compose([\n",
    "    transforms.Resize((224, 224)),\n",
    "    transforms.ToTensor(),\n",
    "    transforms.Normalize((0.5, 0.5, 0.5), (0.5, 0.5, 0.5)),\n",
    "])\n",
    "\n",
    "data_path = '../generate/image/dataset/paste'\n",
    "# 'path_to_dataset'をデータセットのパスに置き換えてください。\n",
    "dataset = CustomCircleDataset('../generate/image/dataset/paste', transform=transform)\n",
    "# dataloader = DataLoader(dataset, batch_size=32, shuffle=True)\n",
    "\n",
    "# データセットの全サイズ\n",
    "total_size = len(dataset)\n",
    "\n",
    "# 各データセットのサイズを計算\n",
    "train_size = int(total_size * 0.7)\n",
    "val_size = int(total_size * 0.2)\n",
    "test_size = total_size - train_size - val_size\n",
    "\n",
    "# データセットをランダムに分割\n",
    "train_dataset, val_dataset, test_dataset = random_split(dataset, [train_size, val_size, test_size])\n",
    "\n",
    "# DataLoaderを作成\n",
    "train_loader = DataLoader(train_dataset, batch_size=64, shuffle=True)\n",
    "val_loader = DataLoader(val_dataset, batch_size=64, shuffle=True)\n",
    "test_loader = DataLoader(test_dataset, batch_size=64, shuffle=True)\n"
   ]
  },
  {
   "cell_type": "code",
   "execution_count": 3,
   "id": "ba919340-4e36-485f-b452-730c1582331f",
   "metadata": {},
   "outputs": [
    {
     "data": {
      "text/plain": [
       "50625"
      ]
     },
     "execution_count": 3,
     "metadata": {},
     "output_type": "execute_result"
    }
   ],
   "source": [
    "len(dataset)"
   ]
  },
  {
   "cell_type": "code",
   "execution_count": 4,
   "id": "26e1af4a-79e9-4481-9920-a011a456a6f6",
   "metadata": {},
   "outputs": [],
   "source": [
    "# model = SimpleCNN()\n",
    "# criterion = nn.MSELoss()\n",
    "# optimizer = optim.Adam(model.parameters(), lr=0.001)\n",
    "# モデルをデバイスに移動\n",
    "\n",
    "device = torch.device('cuda' if torch.cuda.is_available() else 'cpu')\n",
    "\n",
    "model = CustomResNet().to(device)\n",
    "criterion = nn.MSELoss()\n",
    "optimizer = optim.SGD(model.parameters(), lr=0.001, momentum=0.9)\n"
   ]
  },
  {
   "cell_type": "code",
   "execution_count": 5,
   "id": "104442c6-12d6-4ab9-864e-a6a4432760bf",
   "metadata": {},
   "outputs": [
    {
     "name": "stderr",
     "output_type": "stream",
     "text": [
      "Epoch 1/20: 100%|██████████| 554/554 [02:00<00:00,  4.58batch/s]\n"
     ]
    },
    {
     "name": "stdout",
     "output_type": "stream",
     "text": [
      "Epoch [1/20], Train Loss: 0.0241, Val Loss: 0.0084\n"
     ]
    },
    {
     "name": "stderr",
     "output_type": "stream",
     "text": [
      "Epoch 2/20: 100%|██████████| 554/554 [02:00<00:00,  4.59batch/s]\n"
     ]
    },
    {
     "name": "stdout",
     "output_type": "stream",
     "text": [
      "Epoch [2/20], Train Loss: 0.0078, Val Loss: 0.0052\n"
     ]
    },
    {
     "name": "stderr",
     "output_type": "stream",
     "text": [
      "Epoch 3/20: 100%|██████████| 554/554 [02:01<00:00,  4.57batch/s]\n"
     ]
    },
    {
     "name": "stdout",
     "output_type": "stream",
     "text": [
      "Epoch [3/20], Train Loss: 0.0059, Val Loss: 0.0065\n"
     ]
    },
    {
     "name": "stderr",
     "output_type": "stream",
     "text": [
      "Epoch 4/20: 100%|██████████| 554/554 [02:00<00:00,  4.59batch/s]\n"
     ]
    },
    {
     "name": "stdout",
     "output_type": "stream",
     "text": [
      "Epoch [4/20], Train Loss: 0.0048, Val Loss: 0.0051\n"
     ]
    },
    {
     "name": "stderr",
     "output_type": "stream",
     "text": [
      "Epoch 5/20: 100%|██████████| 554/554 [02:00<00:00,  4.59batch/s]\n"
     ]
    },
    {
     "name": "stdout",
     "output_type": "stream",
     "text": [
      "Epoch [5/20], Train Loss: 0.0042, Val Loss: 0.0030\n"
     ]
    },
    {
     "name": "stderr",
     "output_type": "stream",
     "text": [
      "Epoch 6/20: 100%|██████████| 554/554 [01:59<00:00,  4.62batch/s]\n"
     ]
    },
    {
     "name": "stdout",
     "output_type": "stream",
     "text": [
      "Epoch [6/20], Train Loss: 0.0038, Val Loss: 0.0045\n"
     ]
    },
    {
     "name": "stderr",
     "output_type": "stream",
     "text": [
      "Epoch 7/20: 100%|██████████| 554/554 [02:00<00:00,  4.59batch/s]\n"
     ]
    },
    {
     "name": "stdout",
     "output_type": "stream",
     "text": [
      "Epoch [7/20], Train Loss: 0.0036, Val Loss: 0.0023\n"
     ]
    },
    {
     "name": "stderr",
     "output_type": "stream",
     "text": [
      "Epoch 8/20: 100%|██████████| 554/554 [02:01<00:00,  4.58batch/s]\n"
     ]
    },
    {
     "name": "stdout",
     "output_type": "stream",
     "text": [
      "Epoch [8/20], Train Loss: 0.0034, Val Loss: 0.0022\n"
     ]
    },
    {
     "name": "stderr",
     "output_type": "stream",
     "text": [
      "Epoch 9/20: 100%|██████████| 554/554 [02:00<00:00,  4.58batch/s]\n"
     ]
    },
    {
     "name": "stdout",
     "output_type": "stream",
     "text": [
      "Epoch [9/20], Train Loss: 0.0030, Val Loss: 0.0025\n"
     ]
    },
    {
     "name": "stderr",
     "output_type": "stream",
     "text": [
      "Epoch 10/20: 100%|██████████| 554/554 [02:00<00:00,  4.59batch/s]\n"
     ]
    },
    {
     "name": "stdout",
     "output_type": "stream",
     "text": [
      "Epoch [10/20], Train Loss: 0.0029, Val Loss: 0.0034\n"
     ]
    },
    {
     "name": "stderr",
     "output_type": "stream",
     "text": [
      "Epoch 11/20: 100%|██████████| 554/554 [02:01<00:00,  4.57batch/s]\n"
     ]
    },
    {
     "name": "stdout",
     "output_type": "stream",
     "text": [
      "Epoch [11/20], Train Loss: 0.0029, Val Loss: 0.0014\n"
     ]
    },
    {
     "name": "stderr",
     "output_type": "stream",
     "text": [
      "Epoch 12/20: 100%|██████████| 554/554 [02:00<00:00,  4.59batch/s]\n"
     ]
    },
    {
     "name": "stdout",
     "output_type": "stream",
     "text": [
      "Epoch [12/20], Train Loss: 0.0025, Val Loss: 0.0016\n"
     ]
    },
    {
     "name": "stderr",
     "output_type": "stream",
     "text": [
      "Epoch 13/20: 100%|██████████| 554/554 [02:01<00:00,  4.57batch/s]\n"
     ]
    },
    {
     "name": "stdout",
     "output_type": "stream",
     "text": [
      "Epoch [13/20], Train Loss: 0.0024, Val Loss: 0.0039\n"
     ]
    },
    {
     "name": "stderr",
     "output_type": "stream",
     "text": [
      "Epoch 14/20: 100%|██████████| 554/554 [02:00<00:00,  4.58batch/s]\n"
     ]
    },
    {
     "name": "stdout",
     "output_type": "stream",
     "text": [
      "Early stopping at epoch 14\n",
      "Test Loss: 0.0021\n"
     ]
    },
    {
     "data": {
      "image/png": "[encoded data removed]",
      "text/plain": [
       "<Figure size 640x480 with 1 Axes>"
      ]
     },
     "metadata": {},
     "output_type": "display_data"
    }
   ],
   "source": [
    "\n",
    "num_epochs = 20\n",
    "train_losses = []\n",
    "val_losses = []\n",
    "\n",
    "best_val_loss = float('inf')\n",
    "patience = 3\n",
    "trigger_times = 0\n",
    "\n",
    "# 訓練ループ\n",
    "for epoch in range(num_epochs):\n",
    "    model.train()\n",
    "    train_loss = 0.0\n",
    "    for images, labels in tqdm(train_loader, desc=f'Epoch {epoch+1}/{num_epochs}', unit='batch'):\n",
    "        # データをGPUに移動\n",
    "        images, labels = images.to(device), labels.to(device)\n",
    "\n",
    "        optimizer.zero_grad()\n",
    "        outputs = model(images)\n",
    "        loss = criterion(outputs, labels)\n",
    "        loss.backward()\n",
    "        optimizer.step()\n",
    "        train_loss += loss.item()\n",
    "\n",
    "    # バリデーションループ\n",
    "    model.eval()\n",
    "    val_loss = 0.0\n",
    "    with torch.no_grad():\n",
    "        for images, labels in val_loader:\n",
    "            images, labels = images.to(device), labels.to(device)\n",
    "            outputs = model(images)\n",
    "            loss = criterion(outputs, labels)\n",
    "            val_loss += loss.item()\n",
    "\n",
    "    # 平均損失を計算\n",
    "    train_loss /= len(train_loader)\n",
    "    val_loss /= len(val_loader)\n",
    "    train_losses.append(train_loss)  # 訓練損失をリストに追加\n",
    "    val_losses.append(val_loss)\n",
    "\n",
    "    # 最良モデルの保存と早期終了の処理\n",
    "    if val_loss < best_val_loss:\n",
    "        best_val_loss = val_loss\n",
    "        torch.save(model.to('cpu').state_dict(), 'best_model.pth')\n",
    "        model.to(device)\n",
    "        trigger_times = 0  # 改善されたのでカウンターをリセット\n",
    "    else:\n",
    "        trigger_times += 1  # 改善されないのでカウンターを増やす\n",
    "        if trigger_times >= patience:\n",
    "            print(f'Early stopping at epoch {epoch+1}')\n",
    "            break\n",
    "\n",
    "    print(f'Epoch [{epoch+1}/{num_epochs}], Train Loss: {train_loss:.4f}, Val Loss: {val_loss:.4f}')\n",
    "\n",
    "# テストループ\n",
    "model.eval()\n",
    "test_loss = 0.0\n",
    "with torch.no_grad():\n",
    "    for images, labels in test_loader:\n",
    "        images, labels = images.to(device), labels.to(device)\n",
    "        outputs = model(images)\n",
    "        loss = criterion(outputs, labels)\n",
    "        test_loss += loss.item()\n",
    "\n",
    "# 平均テスト損失の計算と表示\n",
    "test_loss /= len(test_loader)\n",
    "print(f'Test Loss: {test_loss:.4f}')\n",
    "\n",
    "\n",
    "# 学習結果のグラフを表示\n",
    "plt.plot(train_losses, label='Training loss')\n",
    "plt.plot(val_losses, label='Validation loss')\n",
    "plt.title('Training and Validation Loss')\n",
    "plt.xlabel('Epochs')\n",
    "plt.ylabel('Loss')\n",
    "plt.legend()\n",
    "plt.show()\n"
   ]
  },
  {
   "cell_type": "code",
   "execution_count": null,
   "id": "c2cee3ba",
   "metadata": {},
   "outputs": [],
   "source": [
    "torch.save(model.to('cpu').state_dict(), 'weeight/simpleCNN_1.pth')"
   ]
  },
  {
   "cell_type": "code",
   "execution_count": null,
   "id": "d348af25-2882-446d-b1c9-a70302ef28cc",
   "metadata": {},
   "outputs": [],
   "source": [
    "def infer(model, image_path, device):\n",
    "    \"\"\"\n",
    "    推論を行う関数。\n",
    "\n",
    "    Args:\n",
    "    model (torch.nn.Module): トレーニング済みのモデル。\n",
    "    image_path (str): 推論を行いたい画像のパス。\n",
    "    device (torch.device): モデルとデータを置くデバイス（例: 'cuda' or 'cpu'）。\n",
    "\n",
    "    Returns:\n",
    "    tuple: 推論によって得られた中心座標(x, y)。\n",
    "    \"\"\"\n",
    "    model.eval()  # モデルを評価モードに設定\n",
    "    transform = transforms.Compose([\n",
    "        transforms.Resize((224, 224)),\n",
    "        transforms.ToTensor(),\n",
    "        transforms.Normalize((0.5, 0.5, 0.5), (0.5, 0.5, 0.5)),\n",
    "    ])\n",
    "\n",
    "    # 画像をロードして前処理\n",
    "    image = Image.open(image_path).convert('RGB')\n",
    "    image = transform(image).unsqueeze(0).to(device)\n",
    "\n",
    "    with torch.no_grad():  # 勾配計算を無効化\n",
    "        outputs = model(image)\n",
    "        predicted_coords = outputs.cpu().numpy()[0]  # デバイスからCPUへ\n",
    "\n",
    "    # 座標のスケーリング（出力を元の画像サイズに合わせる）\n",
    "    x, y, r = predicted_coords[0] * 224, predicted_coords[1] * 224, predicted_coords[2] * 224 * 1.414\n",
    "    return x, y, r\n"
   ]
  },
  {
   "cell_type": "code",
   "execution_count": null,
   "id": "a9df862c-8153-4b3a-8f0a-2faf204dd705",
   "metadata": {},
   "outputs": [],
   "source": [
    "infer(model,'../generate/image/dataset/paste/double/1.0_96_157_60_cbbfe2d5-15f2-45af-b019-d853c8fda910.png','cpu')"
   ]
  },
  {
   "cell_type": "code",
   "execution_count": null,
   "id": "68c7e224-a7c9-4418-9e17-f311e26742b9",
   "metadata": {},
   "outputs": [],
   "source": [
    "model = SimpleCNN()  # SimpleCNNのインスタンスを作成\n",
    "model.load_state_dict(torch.load('model_2.pth'))\n",
    "model.eval()  # 推論モードに設定"
   ]
  },
  {
   "cell_type": "code",
   "execution_count": null,
   "id": "609e5a40-6138-4751-b981-3dd48feb8519",
   "metadata": {},
   "outputs": [],
   "source": [
    "import cv2\n",
    "def apply_hsv_threshold(image):\n",
    "    low_h, high_h = 91, 103  # Example range for yellow hue\n",
    "    low_s, high_s = 200, 255 # Example range for saturation\n",
    "    low_v, high_v = 140, 255 # Example range for value\n",
    "    \n",
    "    # Convert the image from RGB to HSV\n",
    "    hsv_image = cv2.cvtColor(image, cv2.COLOR_RGB2HSV)\n",
    "    \n",
    "    # Define the lower and upper bounds of the HSV threshold\n",
    "    lower_bound = np.array([low_h, low_s, low_v])\n",
    "    upper_bound = np.array([high_h, high_s, high_v])\n",
    "    \n",
    "    # Create a mask where pixels within the threshold are white, and others are black\n",
    "    mask = cv2.inRange(hsv_image, lower_bound, upper_bound)\n",
    "    \n",
    "    # Create an all black image\n",
    "    black_image = np.zeros_like(image)\n",
    "    \n",
    "    # Copy the pixels from the original image where the mask is white\n",
    "    result_image = np.where(mask[:, :, None] == 255, image, black_image)\n",
    "    \n",
    "    return result_image\n",
    "\n",
    "img_path = '../generate/image/dataset/paste/simple/0.45_40_167_27_d378c0ea-3a05-4ace-82b9-1bcf5b706ef8.png'\n",
    "image = cv2.imread(img_path)\n",
    "image = apply_hsv_threshold(image)\n",
    "    \n",
    "pil_image = Image.fromarray(cv2.cvtColor(image, cv2.COLOR_BGR2RGB))\n",
    "transform = transforms.Compose([\n",
    "    transforms.Resize((224, 224)),\n",
    "    transforms.ToTensor(),\n",
    "    transforms.Normalize((0.5, 0.5, 0.5), (0.5, 0.5, 0.5)),\n",
    "])\n",
    "image = transform(pil_image).unsqueeze(0)\n",
    "\n",
    "# モデルを使用して予測\n",
    "with torch.no_grad():\n",
    "    outputs = model(image)\n",
    "    predicted_coords = outputs.cpu().numpy()[0]\n",
    "    pos_x, pos_y, pos_r = predicted_coords\n",
    "\n",
    "\n",
    "# 座標と半径をスケーリング\n",
    "    pos_x = int(pos_x * 224)\n",
    "    pos_y = int(pos_y * 224)\n",
    "    pos_r = int(pos_r * (224)* 1.414)"
   ]
  }
 ],
 "metadata": {
  "kernelspec": {
   "display_name": "Python 3 (ipykernel)",
   "language": "python",
   "name": "python3"
  },
  "language_info": {
   "codemirror_mode": {
    "name": "ipython",
    "version": 3
   },
   "file_extension": ".py",
   "mimetype": "text/x-python",
   "name": "python",
   "nbconvert_exporter": "python",
   "pygments_lexer": "ipython3",
   "version": "3.10.12"
  }
 },
 "nbformat": 4,
 "nbformat_minor": 5
}
