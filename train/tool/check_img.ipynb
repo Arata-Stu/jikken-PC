{
 "cells": [
  {
   "cell_type": "code",
   "execution_count": 9,
   "metadata": {},
   "outputs": [],
   "source": [
    "import os\n",
    "import ipywidgets as widgets\n",
    "from IPython.display import display\n",
    "import threading\n",
    "import time\n",
    "from PIL import Image, ImageDraw\n",
    "import io\n",
    "\n",
    "import numpy as np\n",
    "import cv2"
   ]
  },
  {
   "cell_type": "code",
   "execution_count": 10,
   "metadata": {},
   "outputs": [],
   "source": [
    "# HSV閾値のためのスライダーを作成\n",
    "low_h_slider = widgets.IntSlider(min=0, max=180, value=90, description='Low H')\n",
    "high_h_slider = widgets.IntSlider(min=0, max=180, value=100, description='High H')\n",
    "low_s_slider = widgets.IntSlider(min=0, max=255, value=140, description='Low S')\n",
    "high_s_slider = widgets.IntSlider(min=0, max=255, value=255, description='High S')\n",
    "low_v_slider = widgets.IntSlider(min=0, max=255, value=0, description='Low V')\n",
    "high_v_slider = widgets.IntSlider(min=0, max=255, value=255, description='High V')\n",
    "\n",
    "\n",
    "def parse_filename(filename):\n",
    "    \"\"\" ファイル名からx, y, rを抽出する \"\"\"\n",
    "    parts = filename.split('_')\n",
    "    if len(parts) >= 4:\n",
    "        x, y, r = map(int, parts[1:4])\n",
    "        return x, y, r\n",
    "    return None, None, None\n",
    "\n",
    "def draw_circle_on_image(image, x, y, r):\n",
    "    \"\"\" 画像に円を描画する \"\"\"\n",
    "    image = cv2.circle(image, (x, y), r, (0, 255, 0), 2)\n",
    "    return image\n",
    "    \n",
    "def apply_hsv_threshold(image):\n",
    "    # low_h, high_h = 90, 100  # Example range for yellow hue\n",
    "    # low_s, high_s = 140, 255 # Example range for saturation\n",
    "    # low_v, high_v = 0, 255 # Example range for value\n",
    "\n",
    "    low_h, high_h = low_h_slider.value, high_h_slider.value\n",
    "    low_s, high_s = low_s_slider.value, high_s_slider.value\n",
    "    low_v, high_v = low_v_slider.value, high_v_slider.value\n",
    "    \n",
    "\n",
    "    # Convert the image from RGB to HSV\n",
    "    hsv_image = cv2.cvtColor(image, cv2.COLOR_RGB2HSV)\n",
    "    \n",
    "    # Define the lower and upper bounds of the HSV threshold\n",
    "    lower_bound = np.array([low_h, low_s, low_v])\n",
    "    upper_bound = np.array([high_h, high_s, high_v])\n",
    "    \n",
    "    # Create a mask where pixels within the threshold are white, and others are black\n",
    "    mask = cv2.inRange(hsv_image, lower_bound, upper_bound)\n",
    "    \n",
    "    # Create an all black image\n",
    "    black_image = np.zeros_like(image)\n",
    "    \n",
    "    # Copy the pixels from the original image where the mask is white\n",
    "    result_image = np.where(mask[:, :, None] == 255, image, black_image)\n",
    "    \n",
    "    return result_image"
   ]
  },
  {
   "cell_type": "code",
   "execution_count": 11,
   "metadata": {},
   "outputs": [],
   "source": [
    "def display_images_with_mask(image_directory, interval=0.5):\n",
    "    # 画像ファイルのリストを取得\n",
    "    images = [f for f in os.listdir(image_directory) if f.endswith(('.png', '.jpg', '.jpeg', '.gif'))]\n",
    "    image_path = [os.path.join(image_directory, image) for image in images]\n",
    "    total_images = len(images)\n",
    "\n",
    "    # 画像とファイル名、インデックスを表示するためのウィジェットを作成\n",
    "    image_widget = widgets.Image(\n",
    "        value=open(image_path[0], 'rb').read() if images else None,\n",
    "        format='jpg',\n",
    "        width=224,\n",
    "        height=224,\n",
    "    )\n",
    "    mask_image_widget = widgets.Image(\n",
    "        format='jpg',\n",
    "        width=224,\n",
    "        height=224,\n",
    "    )\n",
    "\n",
    "    filename_label = widgets.Label(value=f\"{images[0]} - 1/{total_images}\" if images else \"No images available\")\n",
    "\n",
    "    is_playing = False\n",
    "    current_image = 0\n",
    "    # 画像を更新する関数\n",
    "    def update_image():\n",
    "        nonlocal current_image\n",
    "        if images:\n",
    "            # original_image = Image.open(image_path[current_image])\n",
    "            original_image = cv2.imread(image_path[current_image])\n",
    "            mask_image = apply_hsv_threshold(original_image)\n",
    "            \n",
    "            x, y, r = parse_filename(images[current_image])\n",
    "            image_with_circle = draw_circle_on_image(mask_image, x, y, r) if x is not None else open(image_path[current_image], 'rb').read()\n",
    "            \n",
    "            _, encoded_image = cv2.imencode('.jpg', image_with_circle)\n",
    "            mask_image_widget.value = encoded_image.tobytes()\n",
    "            image_widget.value = open(image_path[current_image], 'rb').read()\n",
    "\n",
    "            \n",
    "            filename_label.value = f\"{images[current_image]} - {current_image + 1}/{total_images}\"\n",
    "\n",
    "\n",
    "    # 自動再生を行う関数\n",
    "    def autoplay_images():\n",
    "        nonlocal is_playing, current_image\n",
    "        while is_playing and current_image < total_images:\n",
    "            update_image()\n",
    "            time.sleep(interval)\n",
    "            current_image += 1\n",
    "            if current_image >= total_images:\n",
    "                current_image = 0\n",
    "\n",
    "    # 再生・停止・戻る・削除ボタンのイベントハンドラ\n",
    "    def on_play_clicked(b):\n",
    "        nonlocal is_playing\n",
    "        if not is_playing and images:\n",
    "            is_playing = True\n",
    "            threading.Thread(target=autoplay_images).start()\n",
    "\n",
    "    def on_stop_clicked(b):\n",
    "        nonlocal is_playing\n",
    "        is_playing = False\n",
    "\n",
    "    def on_back_clicked(b):\n",
    "        nonlocal current_image\n",
    "        if images:\n",
    "            if current_image > 0:\n",
    "                current_image -= 1\n",
    "            else:\n",
    "                current_image = total_images - 1\n",
    "            update_image()\n",
    "\n",
    "    def on_delete_clicked(b):\n",
    "        nonlocal current_image, total_images\n",
    "        if images:\n",
    "            # 削除処理\n",
    "            os.remove(image_path[current_image])\n",
    "            del images[current_image]\n",
    "            del image_path[current_image]\n",
    "            total_images -= 1\n",
    "            if current_image >= total_images:\n",
    "                current_image = total_images - 1\n",
    "            update_image()\n",
    "\n",
    "    # 再生・停止・戻る・削除ボタンの作成\n",
    "    # 再生・停止・戻る・削除ボタンの作成\n",
    "    play_button = widgets.Button(description=\"Play\")\n",
    "    stop_button = widgets.Button(description=\"Stop\")\n",
    "    back_button = widgets.Button(description=\"Back\")\n",
    "    delete_button = widgets.Button(description=\"Delete\")\n",
    "    play_button.on_click(on_play_clicked)\n",
    "    stop_button.on_click(on_stop_clicked)\n",
    "    back_button.on_click(on_back_clicked)\n",
    "    delete_button.on_click(on_delete_clicked)\n",
    "\n",
    "\n",
    "    # ウィジェットを表示\n",
    "    sliders = widgets.VBox([low_h_slider, high_h_slider, low_s_slider, high_s_slider, low_v_slider, high_v_slider])\n",
    "    display(sliders)\n",
    "    display(widgets.HBox([image_widget, mask_image_widget]))\n",
    "    display(widgets.HBox([play_button, stop_button, back_button, delete_button]))\n",
    "    display(filename_label)\n",
    "\n"
   ]
  },
  {
   "cell_type": "code",
   "execution_count": 12,
   "metadata": {},
   "outputs": [
    {
     "data": {
      "application/vnd.jupyter.widget-view+json": {
       "model_id": "0a2e8e0942cc47bf897194422409647a",
       "version_major": 2,
       "version_minor": 0
      },
      "text/plain": [
       "VBox(children=(IntSlider(value=90, description='Low H', max=180), IntSlider(value=100, description='High H', m…"
      ]
     },
     "metadata": {},
     "output_type": "display_data"
    },
    {
     "data": {
      "application/vnd.jupyter.widget-view+json": {
       "model_id": "a03014f4c3054db3bb2b800e68520dc4",
       "version_major": 2,
       "version_minor": 0
      },
      "text/plain": [
       "HBox(children=(Image(value=b'\\xff\\xd8\\xff\\xe0\\x00\\x10JFIF\\x00\\x01\\x01\\x00\\x00\\x01\\x00\\x01\\x00\\x00\\xff\\xdb\\x00C…"
      ]
     },
     "metadata": {},
     "output_type": "display_data"
    },
    {
     "data": {
      "application/vnd.jupyter.widget-view+json": {
       "model_id": "aee2c4a3201c491e9f0f431e93a18d45",
       "version_major": 2,
       "version_minor": 0
      },
      "text/plain": [
       "HBox(children=(Button(description='Play', style=ButtonStyle()), Button(description='Stop', style=ButtonStyle()…"
      ]
     },
     "metadata": {},
     "output_type": "display_data"
    },
    {
     "data": {
      "application/vnd.jupyter.widget-view+json": {
       "model_id": "0e4ec8f67e7d4218af3c2a088d1c2b77",
       "version_major": 2,
       "version_minor": 0
      },
      "text/plain": [
       "Label(value='1_114_223_30_f2148d35b33e421492d80e8d619a2343.jpg - 1/16')"
      ]
     },
     "metadata": {},
     "output_type": "display_data"
    }
   ],
   "source": [
    "display_images_with_mask('../dataset/label/', interval=0.5)"
   ]
  },
  {
   "cell_type": "code",
   "execution_count": null,
   "metadata": {},
   "outputs": [],
   "source": []
  },
  {
   "cell_type": "code",
   "execution_count": null,
   "metadata": {},
   "outputs": [],
   "source": []
  }
 ],
 "metadata": {
  "kernelspec": {
   "display_name": "image",
   "language": "python",
   "name": "python3"
  },
  "language_info": {
   "codemirror_mode": {
    "name": "ipython",
    "version": 3
   },
   "file_extension": ".py",
   "mimetype": "text/x-python",
   "name": "python",
   "nbconvert_exporter": "python",
   "pygments_lexer": "ipython3",
   "version": "3.11.2"
  }
 },
 "nbformat": 4,
 "nbformat_minor": 2
}
