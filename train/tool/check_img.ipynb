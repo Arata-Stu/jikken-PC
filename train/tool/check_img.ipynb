{
 "cells": [
  {
   "cell_type": "code",
   "execution_count": 1,
   "metadata": {},
   "outputs": [],
   "source": [
    "import os\n",
    "import io\n",
    "import ipywidgets as widgets\n",
    "from IPython.display import display, clear_output\n",
    "import time\n",
    "from PIL import Image, ImageDraw\n",
    "\n",
    "import threading"
   ]
  },
  {
   "cell_type": "code",
   "execution_count": 2,
   "metadata": {},
   "outputs": [],
   "source": [
    "def parse_filename(filename):\n",
    "    \"\"\" ファイル名からx, y, rを抽出する \"\"\"\n",
    "    parts = filename.split('_')\n",
    "    if len(parts) >= 4:\n",
    "        x, y, r = map(int, parts[1:4])\n",
    "        return x, y, r\n",
    "    return None, None, None\n",
    "\n",
    "def draw_circle_on_image(image_path, x, y, r):\n",
    "    \"\"\" 画像に円を描画する \"\"\"\n",
    "    with Image.open(image_path) as img:\n",
    "        draw = ImageDraw.Draw(img)\n",
    "        draw.ellipse((x-r, y-r, x+r, y+r), outline='red', width=2)\n",
    "        img_byte_arr = io.BytesIO()\n",
    "        img.save(img_byte_arr, format='PNG')\n",
    "        return img_byte_arr.getvalue()\n"
   ]
  },
  {
   "cell_type": "code",
   "execution_count": 3,
   "metadata": {},
   "outputs": [
    {
     "data": {
      "application/vnd.jupyter.widget-view+json": {
       "model_id": "0391eff9bd2d4da0b1b30b79172233ad",
       "version_major": 2,
       "version_minor": 0
      },
      "text/plain": [
       "HBox(children=(Button(description='Play', style=ButtonStyle()), Button(description='Stop', style=ButtonStyle()…"
      ]
     },
     "metadata": {},
     "output_type": "display_data"
    },
    {
     "data": {
      "application/vnd.jupyter.widget-view+json": {
       "model_id": "147a2701ed3d4b4aba0a4a88a6104c0a",
       "version_major": 2,
       "version_minor": 0
      },
      "text/plain": [
       "Label(value='165_-257_-173_0_82cc7984c9e947d990ef5887cc64df3c.jpg - 1/200')"
      ]
     },
     "metadata": {},
     "output_type": "display_data"
    },
    {
     "data": {
      "application/vnd.jupyter.widget-view+json": {
       "model_id": "8c6fced827414bc6ac31e420238e4d6f",
       "version_major": 2,
       "version_minor": 0
      },
      "text/plain": [
       "Image(value=b'\\x89PNG\\r\\n\\x1a\\n\\x00\\x00\\x00\\rIHDR\\x00\\x00\\x00\\xe0\\x00\\x00\\x00\\xe0\\x08\\x02\\x00\\x00\\x00\\x95O\\xfd…"
      ]
     },
     "metadata": {},
     "output_type": "display_data"
    }
   ],
   "source": [
    "import os\n",
    "\n",
    "def display_images_with_circle_and_controls(image_directory, interval=0.5):\n",
    "    # 画像ファイルのリストを取得\n",
    "    images = [f for f in os.listdir(image_directory) if f.endswith(('.png', '.jpg', '.jpeg', '.gif'))]\n",
    "    image_path = [os.path.join(image_directory, image) for image in images]\n",
    "    total_images = len(images)\n",
    "\n",
    "    # 再生・停止・戻る・削除のためのフラグと現在の画像インデックス\n",
    "    is_playing = False\n",
    "    current_image = 0\n",
    "\n",
    "    # 画像とファイル名、インデックスを表示するためのウィジェットを作成\n",
    "    x, y, r = parse_filename(images[0]) if images else (None, None, None)\n",
    "    image_with_circle = draw_circle_on_image(image_path[0], x, y, r) if x is not None else open(image_path[0], 'rb').read()\n",
    "    image_widget = widgets.Image(\n",
    "        value=image_with_circle,\n",
    "        format='png',\n",
    "        width=224,\n",
    "        height=224,\n",
    "    )\n",
    "    filename_label = widgets.Label(value=f\"{images[0]} - 1/{total_images}\" if images else \"No images available\")\n",
    "\n",
    "    # 画像を更新する関数\n",
    "    def update_image():\n",
    "        nonlocal current_image\n",
    "        if images:\n",
    "            x, y, r = parse_filename(images[current_image])\n",
    "            image_with_circle = draw_circle_on_image(image_path[current_image], x, y, r) if x is not None else open(image_path[current_image], 'rb').read()\n",
    "            image_widget.value = image_with_circle\n",
    "            filename_label.value = f\"{images[current_image]} - {current_image + 1}/{total_images}\"\n",
    "\n",
    "    # 自動再生を行う関数\n",
    "    def autoplay_images():\n",
    "        nonlocal is_playing, current_image\n",
    "        while is_playing and current_image < total_images:\n",
    "            update_image()\n",
    "            time.sleep(interval)\n",
    "            current_image += 1\n",
    "            if current_image >= total_images:\n",
    "                current_image = 0\n",
    "\n",
    "    # 再生ボタンのイベントハンドラ\n",
    "    def on_play_clicked(b):\n",
    "        nonlocal is_playing\n",
    "        if not is_playing and images:\n",
    "            is_playing = True\n",
    "            threading.Thread(target=autoplay_images).start()\n",
    "\n",
    "    # 停止ボタンのイベントハンドラ\n",
    "    def on_stop_clicked(b):\n",
    "        nonlocal is_playing\n",
    "        is_playing = False\n",
    "\n",
    "    # 戻るボタンのイベントハンドラ\n",
    "    def on_back_clicked(b):\n",
    "        nonlocal current_image\n",
    "        if images:\n",
    "            if current_image > 0:\n",
    "                current_image -= 1\n",
    "            else:\n",
    "                current_image = total_images - 1\n",
    "            update_image()\n",
    "\n",
    "    # 削除ボタンのイベントハンドラ\n",
    "    def on_delete_clicked(b):\n",
    "        nonlocal current_image, total_images\n",
    "        if images:\n",
    "            # 削除処理\n",
    "            os.remove(image_path[current_image])\n",
    "            del images[current_image]\n",
    "            del image_path[current_image]\n",
    "            total_images -= 1\n",
    "            if current_image >= total_images:\n",
    "                current_image = total_images - 1\n",
    "            update_image()\n",
    "\n",
    "    # 再生・停止・戻る・削除ボタンの作成\n",
    "    play_button = widgets.Button(description=\"Play\")\n",
    "    stop_button = widgets.Button(description=\"Stop\")\n",
    "    back_button = widgets.Button(description=\"Back\")\n",
    "    delete_button = widgets.Button(description=\"Delete\")\n",
    "    play_button.on_click(on_play_clicked)\n",
    "    stop_button.on_click(on_stop_clicked)\n",
    "    back_button.on_click(on_back_clicked)\n",
    "    delete_button.on_click(on_delete_clicked)\n",
    "\n",
    "    # ウィジェットを表示\n",
    "    display(widgets.HBox([play_button, stop_button, back_button, delete_button]))\n",
    "    display(filename_label)\n",
    "    display(image_widget)\n",
    "\n",
    "# 使用例\n",
    "display_images_with_circle_and_controls('../dataset/label/', interval=0.5)\n",
    "\n",
    "# ノートブック環境での実行のため、実際のディレクトリパスは指定できませんが、\n",
    "# これをあなたのJupyter Notebookにコピーして、適切なパスで実行してください。\n"
   ]
  },
  {
   "cell_type": "code",
   "execution_count": null,
   "metadata": {},
   "outputs": [],
   "source": []
  }
 ],
 "metadata": {
  "kernelspec": {
   "display_name": "image",
   "language": "python",
   "name": "python3"
  },
  "language_info": {
   "codemirror_mode": {
    "name": "ipython",
    "version": 3
   },
   "file_extension": ".py",
   "mimetype": "text/x-python",
   "name": "python",
   "nbconvert_exporter": "python",
   "pygments_lexer": "ipython3",
   "version": "3.11.2"
  }
 },
 "nbformat": 4,
 "nbformat_minor": 2
}
