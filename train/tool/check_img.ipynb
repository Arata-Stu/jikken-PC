{
 "cells": [
  {
   "cell_type": "code",
   "execution_count": 2,
   "metadata": {},
   "outputs": [],
   "source": []
  },
  {
   "cell_type": "code",
   "execution_count": 1,
   "metadata": {},
   "outputs": [],
   "source": [
    "import os\n",
    "import ipywidgets as widgets\n",
    "from IPython.display import display, clear_output\n",
    "import time\n",
    "\n",
    "import threading"
   ]
  },
  {
   "cell_type": "code",
   "execution_count": null,
   "metadata": {},
   "outputs": [],
   "source": []
  },
  {
   "cell_type": "code",
   "execution_count": 4,
   "metadata": {},
   "outputs": [
    {
     "data": {
      "application/vnd.jupyter.widget-view+json": {
       "model_id": "4f34f85f3c9c4c72bd243ce857dfcf84",
       "version_major": 2,
       "version_minor": 0
      },
      "text/plain": [
       "HBox(children=(Button(description='Play', style=ButtonStyle()), Button(description='Stop', style=ButtonStyle()…"
      ]
     },
     "metadata": {},
     "output_type": "display_data"
    },
    {
     "data": {
      "application/vnd.jupyter.widget-view+json": {
       "model_id": "3e65223a73514b11b189eb8d96c529b0",
       "version_major": 2,
       "version_minor": 0
      },
      "text/plain": [
       "Label(value='sample0.jpg - 1/3')"
      ]
     },
     "metadata": {},
     "output_type": "display_data"
    },
    {
     "data": {
      "application/vnd.jupyter.widget-view+json": {
       "model_id": "c8f62a13ba904730a1c036f3131bd7b0",
       "version_major": 2,
       "version_minor": 0
      },
      "text/plain": [
       "Image(value=b'\\xff\\xd8\\xff\\xe0\\x00\\x10JFIF\\x00\\x01\\x01\\x00\\x00\\x01\\x00\\x01\\x00\\x00\\xff\\xdb\\x00C\\x00\\x02\\x01\\x0…"
      ]
     },
     "metadata": {},
     "output_type": "display_data"
    },
    {
     "ename": "TraitError",
     "evalue": "The 'value' trait of an Image instance expected a memory view object, not the NoneType None.",
     "output_type": "error",
     "traceback": [
      "\u001b[0;31m---------------------------------------------------------------------------\u001b[0m",
      "\u001b[0;31mTypeError\u001b[0m                                 Traceback (most recent call last)",
      "File \u001b[0;32m~/opt/anaconda3/envs/image/lib/python3.11/site-packages/ipywidgets/widgets/trait_types.py:246\u001b[0m, in \u001b[0;36mCByteMemoryView.validate\u001b[0;34m(self, obj, value)\u001b[0m\n\u001b[1;32m    245\u001b[0m \u001b[38;5;28;01mtry\u001b[39;00m:\n\u001b[0;32m--> 246\u001b[0m     mv \u001b[38;5;241m=\u001b[39m \u001b[38;5;28mmemoryview\u001b[39m(value)\n\u001b[1;32m    247\u001b[0m     \u001b[38;5;28;01mif\u001b[39;00m mv\u001b[38;5;241m.\u001b[39mformat \u001b[38;5;241m!=\u001b[39m \u001b[38;5;124m'\u001b[39m\u001b[38;5;124mB\u001b[39m\u001b[38;5;124m'\u001b[39m:\n",
      "\u001b[0;31mTypeError\u001b[0m: memoryview: a bytes-like object is required, not 'NoneType'",
      "\nDuring handling of the above exception, another exception occurred:\n",
      "\u001b[0;31mTraitError\u001b[0m                                Traceback (most recent call last)",
      "Cell \u001b[0;32mIn[4], line 76\u001b[0m, in \u001b[0;36mdisplay_images_with_delete_function.<locals>.on_delete_clicked\u001b[0;34m(b)\u001b[0m\n\u001b[1;32m     74\u001b[0m \u001b[38;5;28;01mif\u001b[39;00m current_image \u001b[38;5;241m>\u001b[39m\u001b[38;5;241m=\u001b[39m total_images:\n\u001b[1;32m     75\u001b[0m     current_image \u001b[38;5;241m=\u001b[39m total_images \u001b[38;5;241m-\u001b[39m \u001b[38;5;241m1\u001b[39m\n\u001b[0;32m---> 76\u001b[0m update_image()\n",
      "Cell \u001b[0;32mIn[4], line 30\u001b[0m, in \u001b[0;36mdisplay_images_with_delete_function.<locals>.update_image\u001b[0;34m()\u001b[0m\n\u001b[1;32m     28\u001b[0m         filename_label\u001b[38;5;241m.\u001b[39mvalue \u001b[38;5;241m=\u001b[39m \u001b[38;5;124mf\u001b[39m\u001b[38;5;124m\"\u001b[39m\u001b[38;5;132;01m{\u001b[39;00mimages[current_image]\u001b[38;5;132;01m}\u001b[39;00m\u001b[38;5;124m - \u001b[39m\u001b[38;5;132;01m{\u001b[39;00mcurrent_image \u001b[38;5;241m+\u001b[39m \u001b[38;5;241m1\u001b[39m\u001b[38;5;132;01m}\u001b[39;00m\u001b[38;5;124m/\u001b[39m\u001b[38;5;132;01m{\u001b[39;00mtotal_images\u001b[38;5;132;01m}\u001b[39;00m\u001b[38;5;124m\"\u001b[39m\n\u001b[1;32m     29\u001b[0m \u001b[38;5;28;01melse\u001b[39;00m:\n\u001b[0;32m---> 30\u001b[0m     image_widget\u001b[38;5;241m.\u001b[39mvalue \u001b[38;5;241m=\u001b[39m \u001b[38;5;28;01mNone\u001b[39;00m\n\u001b[1;32m     31\u001b[0m     filename_label\u001b[38;5;241m.\u001b[39mvalue \u001b[38;5;241m=\u001b[39m \u001b[38;5;124m\"\u001b[39m\u001b[38;5;124mNo images available\u001b[39m\u001b[38;5;124m\"\u001b[39m\n",
      "File \u001b[0;32m~/opt/anaconda3/envs/image/lib/python3.11/site-packages/traitlets/traitlets.py:729\u001b[0m, in \u001b[0;36mTraitType.__set__\u001b[0;34m(self, obj, value)\u001b[0m\n\u001b[1;32m    727\u001b[0m     \u001b[38;5;28;01mraise\u001b[39;00m TraitError(\u001b[38;5;124m'\u001b[39m\u001b[38;5;124mThe \u001b[39m\u001b[38;5;124m\"\u001b[39m\u001b[38;5;132;01m%s\u001b[39;00m\u001b[38;5;124m\"\u001b[39m\u001b[38;5;124m trait is read-only.\u001b[39m\u001b[38;5;124m'\u001b[39m \u001b[38;5;241m%\u001b[39m \u001b[38;5;28mself\u001b[39m\u001b[38;5;241m.\u001b[39mname)\n\u001b[1;32m    728\u001b[0m \u001b[38;5;28;01melse\u001b[39;00m:\n\u001b[0;32m--> 729\u001b[0m     \u001b[38;5;28mself\u001b[39m\u001b[38;5;241m.\u001b[39mset(obj, value)\n",
      "File \u001b[0;32m~/opt/anaconda3/envs/image/lib/python3.11/site-packages/traitlets/traitlets.py:703\u001b[0m, in \u001b[0;36mTraitType.set\u001b[0;34m(self, obj, value)\u001b[0m\n\u001b[1;32m    702\u001b[0m \u001b[38;5;28;01mdef\u001b[39;00m \u001b[38;5;21mset\u001b[39m(\u001b[38;5;28mself\u001b[39m, obj, value):\n\u001b[0;32m--> 703\u001b[0m     new_value \u001b[38;5;241m=\u001b[39m \u001b[38;5;28mself\u001b[39m\u001b[38;5;241m.\u001b[39m_validate(obj, value)\n\u001b[1;32m    704\u001b[0m     \u001b[38;5;28;01mtry\u001b[39;00m:\n\u001b[1;32m    705\u001b[0m         old_value \u001b[38;5;241m=\u001b[39m obj\u001b[38;5;241m.\u001b[39m_trait_values[\u001b[38;5;28mself\u001b[39m\u001b[38;5;241m.\u001b[39mname]\n",
      "File \u001b[0;32m~/opt/anaconda3/envs/image/lib/python3.11/site-packages/traitlets/traitlets.py:735\u001b[0m, in \u001b[0;36mTraitType._validate\u001b[0;34m(self, obj, value)\u001b[0m\n\u001b[1;32m    733\u001b[0m     \u001b[38;5;28;01mreturn\u001b[39;00m value\n\u001b[1;32m    734\u001b[0m \u001b[38;5;28;01mif\u001b[39;00m \u001b[38;5;28mhasattr\u001b[39m(\u001b[38;5;28mself\u001b[39m, \u001b[38;5;124m\"\u001b[39m\u001b[38;5;124mvalidate\u001b[39m\u001b[38;5;124m\"\u001b[39m):\n\u001b[0;32m--> 735\u001b[0m     value \u001b[38;5;241m=\u001b[39m \u001b[38;5;28mself\u001b[39m\u001b[38;5;241m.\u001b[39mvalidate(obj, value)\n\u001b[1;32m    736\u001b[0m \u001b[38;5;28;01mif\u001b[39;00m obj\u001b[38;5;241m.\u001b[39m_cross_validation_lock \u001b[38;5;129;01mis\u001b[39;00m \u001b[38;5;28;01mFalse\u001b[39;00m:\n\u001b[1;32m    737\u001b[0m     value \u001b[38;5;241m=\u001b[39m \u001b[38;5;28mself\u001b[39m\u001b[38;5;241m.\u001b[39m_cross_validate(obj, value)\n",
      "File \u001b[0;32m~/opt/anaconda3/envs/image/lib/python3.11/site-packages/ipywidgets/widgets/trait_types.py:251\u001b[0m, in \u001b[0;36mCByteMemoryView.validate\u001b[0;34m(self, obj, value)\u001b[0m\n\u001b[1;32m    249\u001b[0m     \u001b[38;5;28;01mreturn\u001b[39;00m mv\n\u001b[1;32m    250\u001b[0m \u001b[38;5;28;01mexcept\u001b[39;00m \u001b[38;5;167;01mException\u001b[39;00m:\n\u001b[0;32m--> 251\u001b[0m     \u001b[38;5;28mself\u001b[39m\u001b[38;5;241m.\u001b[39merror(obj, value)\n",
      "File \u001b[0;32m~/opt/anaconda3/envs/image/lib/python3.11/site-packages/traitlets/traitlets.py:841\u001b[0m, in \u001b[0;36mTraitType.error\u001b[0;34m(self, obj, value, error, info)\u001b[0m\n\u001b[1;32m    835\u001b[0m \u001b[38;5;28;01melse\u001b[39;00m:\n\u001b[1;32m    836\u001b[0m     e \u001b[38;5;241m=\u001b[39m \u001b[38;5;124m\"\u001b[39m\u001b[38;5;124mThe \u001b[39m\u001b[38;5;124m'\u001b[39m\u001b[38;5;132;01m{}\u001b[39;00m\u001b[38;5;124m'\u001b[39m\u001b[38;5;124m trait expected \u001b[39m\u001b[38;5;132;01m{}\u001b[39;00m\u001b[38;5;124m, not \u001b[39m\u001b[38;5;132;01m{}\u001b[39;00m\u001b[38;5;124m.\u001b[39m\u001b[38;5;124m\"\u001b[39m\u001b[38;5;241m.\u001b[39mformat(\n\u001b[1;32m    837\u001b[0m         \u001b[38;5;28mself\u001b[39m\u001b[38;5;241m.\u001b[39mname,\n\u001b[1;32m    838\u001b[0m         \u001b[38;5;28mself\u001b[39m\u001b[38;5;241m.\u001b[39minfo(),\n\u001b[1;32m    839\u001b[0m         describe(\u001b[38;5;124m\"\u001b[39m\u001b[38;5;124mthe\u001b[39m\u001b[38;5;124m\"\u001b[39m, value),\n\u001b[1;32m    840\u001b[0m     )\n\u001b[0;32m--> 841\u001b[0m \u001b[38;5;28;01mraise\u001b[39;00m TraitError(e)\n",
      "\u001b[0;31mTraitError\u001b[0m: The 'value' trait of an Image instance expected a memory view object, not the NoneType None."
     ]
    }
   ],
   "source": [
    "import os\n",
    "\n",
    "def display_images_with_delete_function(image_directory, interval=3):\n",
    "    # 画像ファイルのリストを取得\n",
    "    images = [f for f in os.listdir(image_directory) if f.endswith(('.png', '.jpg', '.jpeg', '.gif'))]\n",
    "    image_path = [os.path.join(image_directory, image) for image in images]\n",
    "    total_images = len(images)\n",
    "\n",
    "    # 画像とファイル名、インデックスを表示するためのウィジェットを作成\n",
    "    image_widget = widgets.Image(\n",
    "        value=open(image_path[0], 'rb').read() if images else None,\n",
    "        format='png',\n",
    "        width=224,\n",
    "        height=224,\n",
    "    )\n",
    "    filename_label = widgets.Label(value=f\"{images[0]} - 1/{total_images}\" if images else \"No images available\")\n",
    "\n",
    "    # 再生・停止・戻る・削除のためのフラグと現在の画像インデックス\n",
    "    is_playing = False\n",
    "    current_image = 0\n",
    "\n",
    "    # 画像を更新する関数\n",
    "    def update_image():\n",
    "        nonlocal current_image\n",
    "        if images:\n",
    "            with open(image_path[current_image], 'rb') as file:\n",
    "                image_widget.value = file.read()\n",
    "                filename_label.value = f\"{images[current_image]} - {current_image + 1}/{total_images}\"\n",
    "        else:\n",
    "            image_widget.value = None\n",
    "            filename_label.value = \"No images available\"\n",
    "\n",
    "    # 自動再生を行う関数\n",
    "    def autoplay_images():\n",
    "        nonlocal is_playing, current_image\n",
    "        while is_playing and current_image < total_images:\n",
    "            update_image()\n",
    "            time.sleep(interval)\n",
    "            current_image += 1\n",
    "            if current_image >= total_images:\n",
    "                current_image = 0\n",
    "\n",
    "    # 再生ボタンのイベントハンドラ\n",
    "    def on_play_clicked(b):\n",
    "        nonlocal is_playing\n",
    "        if not is_playing and images:\n",
    "            is_playing = True\n",
    "            threading.Thread(target=autoplay_images).start()\n",
    "\n",
    "    # 停止ボタンのイベントハンドラ\n",
    "    def on_stop_clicked(b):\n",
    "        nonlocal is_playing\n",
    "        is_playing = False\n",
    "\n",
    "    # 戻るボタンのイベントハンドラ\n",
    "    def on_back_clicked(b):\n",
    "        nonlocal current_image\n",
    "        if images:\n",
    "            if current_image > 0:\n",
    "                current_image -= 1\n",
    "            else:\n",
    "                current_image = total_images - 1\n",
    "            update_image()\n",
    "\n",
    "    # 削除ボタンのイベントハンドラ\n",
    "    def on_delete_clicked(b):\n",
    "        nonlocal current_image, total_images\n",
    "        if images:\n",
    "            # 削除処理\n",
    "            os.remove(image_path[current_image])\n",
    "            del images[current_image]\n",
    "            del image_path[current_image]\n",
    "            total_images -= 1\n",
    "            if current_image >= total_images:\n",
    "                current_image = total_images - 1\n",
    "            update_image()\n",
    "\n",
    "    # 再生・停止・戻る・削除ボタンの作成\n",
    "    play_button = widgets.Button(description=\"Play\")\n",
    "    stop_button = widgets.Button(description=\"Stop\")\n",
    "    back_button = widgets.Button(description=\"Back\")\n",
    "    delete_button = widgets.Button(description=\"Delete\")\n",
    "    play_button.on_click(on_play_clicked)\n",
    "    stop_button.on_click(on_stop_clicked)\n",
    "    back_button.on_click(on_back_clicked)\n",
    "    delete_button.on_click(on_delete_clicked)\n",
    "\n",
    "    # ウィジェットを表示\n",
    "    display(widgets.HBox([play_button, stop_button, back_button, delete_button]))\n",
    "    display(filename_label)\n",
    "    display(image_widget)\n",
    "\n",
    "# 使用例\n",
    "display_images_with_delete_function('../dataset/collect/', interval=3)\n",
    "\n",
    "# ノートブック環境での実行のため、実際のディレクトリパスは指定できませんが、\n",
    "# これをあなたのJupyter Notebookにコピーして、適切なパスで実行してください。\n"
   ]
  },
  {
   "cell_type": "code",
   "execution_count": null,
   "metadata": {},
   "outputs": [],
   "source": []
  }
 ],
 "metadata": {
  "kernelspec": {
   "display_name": "image",
   "language": "python",
   "name": "python3"
  },
  "language_info": {
   "codemirror_mode": {
    "name": "ipython",
    "version": 3
   },
   "file_extension": ".py",
   "mimetype": "text/x-python",
   "name": "python",
   "nbconvert_exporter": "python",
   "pygments_lexer": "ipython3",
   "version": "3.11.2"
  }
 },
 "nbformat": 4,
 "nbformat_minor": 2
}
