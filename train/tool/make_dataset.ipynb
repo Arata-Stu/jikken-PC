{
 "cells": [
  {
   "cell_type": "code",
   "execution_count": 4,
   "metadata": {},
   "outputs": [],
   "source": [
    "import cv2\n",
    "import numpy as np\n",
    "import os,glob,uuid\n",
    "import torch\n",
    "from torchvision import transforms\n",
    "from PIL import Image\n",
    "\n",
    "import sys\n",
    "sys.path.append('../')\n",
    "\n",
    "from learn import CustomResNet,SimpleCNN,SimpleCNN_1"
   ]
  },
  {
   "cell_type": "code",
   "execution_count": 10,
   "metadata": {},
   "outputs": [],
   "source": [
    "os.makedirs('../dataset/label', exist_ok=True)"
   ]
  },
  {
   "cell_type": "code",
   "execution_count": 5,
   "metadata": {},
   "outputs": [],
   "source": [
    "def apply_hsv_threshold(image):\n",
    "    low_h, high_h = 90, 100  # Example range for yellow hue\n",
    "    low_s, high_s = 140, 255 # Example range for saturation\n",
    "    low_v, high_v = 0, 255 # Example range for value\n",
    "    \n",
    "\n",
    "    # Convert the image from RGB to HSV\n",
    "    hsv_image = cv2.cvtColor(image, cv2.COLOR_RGB2HSV)\n",
    "    \n",
    "    # Define the lower and upper bounds of the HSV threshold\n",
    "    lower_bound = np.array([low_h, low_s, low_v])\n",
    "    upper_bound = np.array([high_h, high_s, high_v])\n",
    "    \n",
    "    # Create a mask where pixels within the threshold are white, and others are black\n",
    "    mask = cv2.inRange(hsv_image, lower_bound, upper_bound)\n",
    "    \n",
    "    # Create an all black image\n",
    "    black_image = np.zeros_like(image)\n",
    "    \n",
    "    # Copy the pixels from the original image where the mask is white\n",
    "    result_image = np.where(mask[:, :, None] == 255, image, black_image)\n",
    "    \n",
    "    return result_image"
   ]
  },
  {
   "cell_type": "code",
   "execution_count": 6,
   "metadata": {},
   "outputs": [],
   "source": [
    "input_directory = \"../dataset/collect\"\n",
    "output_directory = \"../dataset/label/\"\n",
    "\n",
    "entries = os.listdir(input_directory)\n",
    "\n",
    "# Filter to include only .jpg files\n",
    "img_files = [file for file in entries if file.endswith('.jpg')]"
   ]
  },
  {
   "cell_type": "code",
   "execution_count": 7,
   "metadata": {},
   "outputs": [
    {
     "data": {
      "text/plain": [
       "['sample0.jpg', 'sample3.jpg', 'sample2.jpg']"
      ]
     },
     "execution_count": 7,
     "metadata": {},
     "output_type": "execute_result"
    }
   ],
   "source": [
    "img_files"
   ]
  },
  {
   "cell_type": "code",
   "execution_count": 8,
   "metadata": {},
   "outputs": [
    {
     "data": {
      "text/plain": [
       "SimpleCNN(\n",
       "  (conv1): Conv2d(3, 16, kernel_size=(3, 3), stride=(2, 2), padding=(1, 1))\n",
       "  (conv2): Conv2d(16, 32, kernel_size=(3, 3), stride=(2, 2), padding=(1, 1))\n",
       "  (fc1): Linear(in_features=100352, out_features=128, bias=True)\n",
       "  (fc2): Linear(in_features=128, out_features=3, bias=True)\n",
       ")"
      ]
     },
     "execution_count": 8,
     "metadata": {},
     "output_type": "execute_result"
    }
   ],
   "source": [
    "# デバイスの設定（CUDAが利用可能な場合はGPUを使用）\n",
    "device = torch.device('cuda' if torch.cuda.is_available() else 'cpu')\n",
    "weight = '../weight/light/simpleCNN_v3.pth'\n",
    "# モデルのインスタンスを作成\n",
    "model = SimpleCNN()\n",
    "# モデルの重みをロードし、推論モードに設定\n",
    "model.load_state_dict(torch.load(weight, map_location=device))\n",
    "model.to(device)\n",
    "model.eval()"
   ]
  },
  {
   "cell_type": "code",
   "execution_count": 9,
   "metadata": {},
   "outputs": [],
   "source": [
    "input_directory = '../dataset/collect/'\n",
    "output_path = '../dataset/label/'\n",
    "\n",
    "for img in img_files:\n",
    "    img_path = input_directory + img\n",
    "    image = cv2.imread(img_path)\n",
    "\n",
    "    mask_image = apply_hsv_threshold(image)\n",
    "    pil_image = Image.fromarray(cv2.cvtColor(image, cv2.COLOR_BGR2RGB))\n",
    "    transform = transforms.Compose([\n",
    "        transforms.Resize((224, 224)),\n",
    "        transforms.ToTensor(),\n",
    "        transforms.Normalize((0.5, 0.5, 0.5), (0.5, 0.5, 0.5)),\n",
    "    ])\n",
    "    image_tensor = transform(pil_image).unsqueeze(0).to(device)\n",
    "\n",
    "    #モデルにmask=imageを入力し、出力から座標、半径を得る\n",
    "    #ファイルの名前を、filename = '_x_y_r_uuid.jpg'として保存\n",
    "    # モデルを使用して予測\n",
    "    with torch.no_grad():\n",
    "        outputs = model(image_tensor)\n",
    "        predicted_coords = outputs.cpu().numpy()[0]\n",
    "        pos_x, pos_y, pos_r = predicted_coords\n",
    "\n",
    "    # 座標と半径をスケーリング\n",
    "    pos_x = int(pos_x * 224)\n",
    "    pos_y = int(pos_y * 224)\n",
    "    pos_r = int(pos_r * (224 * 1.414))\n",
    "\n",
    "    if pos_r < 0:\n",
    "        pos_r = 0\n",
    "\n",
    "    filename = f'_{pos_x}_{pos_y}_{pos_r}_{uuid.uuid4().hex}.jpg'\n",
    "    cv2.imwrite(output_path+filename,image)\n",
    "\n",
    "    \n",
    "    "
   ]
  },
  {
   "cell_type": "code",
   "execution_count": null,
   "metadata": {},
   "outputs": [],
   "source": []
  }
 ],
 "metadata": {
  "kernelspec": {
   "display_name": "Python 3",
   "language": "python",
   "name": "python3"
  },
  "language_info": {
   "codemirror_mode": {
    "name": "ipython",
    "version": 3
   },
   "file_extension": ".py",
   "mimetype": "text/x-python",
   "name": "python",
   "nbconvert_exporter": "python",
   "pygments_lexer": "ipython3",
   "version": "3.11.2"
  }
 },
 "nbformat": 4,
 "nbformat_minor": 2
}
